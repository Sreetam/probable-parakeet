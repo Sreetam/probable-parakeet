{
 "cells": [
  {
   "cell_type": "code",
   "execution_count": 1,
   "metadata": {},
   "outputs": [
    {
     "name": "stdout",
     "output_type": "stream",
     "text": [
      "CPU times: user 1 µs, sys: 0 ns, total: 1 µs\n",
      "Wall time: 4.05 µs\n"
     ]
    }
   ],
   "source": [
    "%time\n",
    "import scraper\n",
    "s = scraper.Scraper()\n",
    "s.path = '/Users/sreetam'\n",
    "links = s.get_rss(from_file=True, write=False)\n",
    "breaking = s.breaking(write=True)\n",
    "news = s.get_news(write=True, mins=24*60)"
   ]
  },
  {
   "cell_type": "code",
   "execution_count": 2,
   "metadata": {},
   "outputs": [
    {
     "data": {
      "text/plain": [
       "[['12-11-2022 17:38:18 ',\n",
       "  1668292698.0,\n",
       "  'Two aircraft collide, crash during Dallas air show',\n",
       "  'The Federal Aviation Administration says two aircraft have collided at air show in Dallas',\n",
       "  'https://s.abcnews.com/images/US/WireAP_bfc0ee832b274538b6bb607b53c0b31a_4x3_384.jpg'],\n",
       " ['12-11-2022 22:34:46 UTC',\n",
       "  1668292486.0,\n",
       "  'At summit, India & ASEAN reaffirm importance of freedom of navigation',\n",
       "  '',\n",
       "  'https://images.indianexpress.com/2022/11/Vicepresident-3column.jpg']]"
      ]
     },
     "execution_count": 2,
     "metadata": {},
     "output_type": "execute_result"
    }
   ],
   "source": [
    "breaking"
   ]
  }
 ],
 "metadata": {
  "kernelspec": {
   "display_name": "Python 3 (ipykernel)",
   "language": "python",
   "name": "python3"
  },
  "language_info": {
   "codemirror_mode": {
    "name": "ipython",
    "version": 3
   },
   "file_extension": ".py",
   "mimetype": "text/x-python",
   "name": "python",
   "nbconvert_exporter": "python",
   "pygments_lexer": "ipython3",
   "version": "3.10.8"
  },
  "vscode": {
   "interpreter": {
    "hash": "31f2aee4e71d21fbe5cf8b01ff0e069b9275f58929596ceb00d14d90e3e16cd6"
   }
  }
 },
 "nbformat": 4,
 "nbformat_minor": 2
}
