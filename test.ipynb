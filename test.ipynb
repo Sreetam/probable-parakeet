{
 "cells": [
  {
   "cell_type": "code",
   "execution_count": 1,
   "metadata": {},
   "outputs": [
    {
     "name": "stdout",
     "output_type": "stream",
     "text": [
      "CPU times: user 2 µs, sys: 1 µs, total: 3 µs\n",
      "Wall time: 3.1 µs\n"
     ]
    },
    {
     "name": "stderr",
     "output_type": "stream",
     "text": [
      "[nltk_data] Downloading package stopwords to\n",
      "[nltk_data]     /Users/sreetam/nltk_data...\n",
      "[nltk_data]   Package stopwords is already up-to-date!\n"
     ]
    }
   ],
   "source": [
    "%time\n",
    "import scraper\n",
    "import pandas as pd\n",
    "s = scraper.Scraper()\n",
    "s.path = '/Users/sreetam'\n",
    "links = s.get_rss(from_file=False, write=True)\n",
    "breaking = s.breaking(write=True, mins=60)\n",
    "news = s.get_news(write=True, mins=24*60)\n",
    "df = pd.DataFrame(news, columns=s.news_schema)"
   ]
  },
  {
   "cell_type": "code",
   "execution_count": 2,
   "metadata": {},
   "outputs": [
    {
     "name": "stdout",
     "output_type": "stream",
     "text": [
      "CPU times: user 4 µs, sys: 0 ns, total: 4 µs\n",
      "Wall time: 5.72 µs\n"
     ]
    }
   ],
   "source": [
    "%%time\n",
    "import numpy as np\n",
    "from collections import Counter"
   ]
  },
  {
   "cell_type": "code",
   "execution_count": 5,
   "metadata": {},
   "outputs": [],
   "source": [
    "df['key_words'] = df['title'].apply(lambda x:s.pre_process(x))"
   ]
  },
  {
   "cell_type": "code",
   "execution_count": 6,
   "metadata": {},
   "outputs": [],
   "source": [
    "all_dfs = []\n",
    "for country in s.countries:\n",
    "        for category in s.interests:\n",
    "                n_df = df.loc[df['country']==country]\n",
    "                unique, counts = np.unique(np.concatenate(n_df.key_words.values), return_counts=True)\n",
    "                total_word_count = dict(sorted(dict(zip(unique, counts)).items(), \n",
    "                        key=lambda item: item[1], reverse=True))\n",
    "                margin = max(total_word_count.values())*0.99\n",
    "                trending_dict = dict((k, v) for k, v in total_word_count.items() if v >= margin)\n",
    "                trending_words = list(trending_dict.keys())\n",
    "                n_df = n_df.loc[[set(n_df.key_words[i])-set(trending_words)!=set(n_df.key_words[i]) for i in n_df.index]]\n",
    "                all_dfs.append(n_df)"
   ]
  },
  {
   "cell_type": "code",
   "execution_count": 7,
   "metadata": {},
   "outputs": [],
   "source": [
    "k_df = pd.concat(all_dfs)"
   ]
  },
  {
   "cell_type": "code",
   "execution_count": 10,
   "metadata": {},
   "outputs": [
    {
     "data": {
      "text/plain": [
       "array([\"White House condemns North Korea's latest long-range missile launch\",\n",
       "       \"House Republicans could pose threat to President Biden's agenda\",\n",
       "       'New generation of House Democrats vying for leadership spots',\n",
       "       \"Lauren Boebert's opponent concedes in tight Colorado House race\",\n",
       "       'Nancy Pelosi stands down as leader of US House Democrats',\n",
       "       \"House Republicans say 'top priority' is to probe Biden family\",\n",
       "       \"3 House Republicans say they won't support McCarthy for speaker\",\n",
       "       'Democrats narrowly win control of PA State House',\n",
       "       'Election denier Hakeem Jeffries could replace Pelosi as House Dem leader',\n",
       "       'White House files Supreme Court emergency appeal to rescue $500B student debt handout',\n",
       "       'Jordan seeks testimony from Garland, Wray, others in House Judiciary probes of DOJ, FBI',\n",
       "       'Lauren Boebert’s Rival, Adam Frisch, Concedes Colorado House Race',\n",
       "       'These Are the Democrats Who Could Replace Pelosi and Other House Leaders',\n",
       "       'Why Republicans’ Wafer-Thin House Majority Is a Gift for Democrats',\n",
       "       'Lauren Boebert’s House Race Nears a Recount',\n",
       "       'Lauren Boebert’s Rival, Adam Frisch, Concedes Colorado House Race',\n",
       "       'These Are the Democrats Who Could Replace Pelosi and Other House Leaders',\n",
       "       'Why Republicans’ Wafer-Thin House Majority Is a Gift for Democrats',\n",
       "       'Lauren Boebert’s House Race Nears a Recount',\n",
       "       \"Speaker Nancy Pelosi announced she'll end her run as the top House Democrat\",\n",
       "       'Impeachment, investigations, infighting: GOP’s thin margin in the House stirs intraparty conflict',\n",
       "       'Grover Norquist pushes House GOP to reinstate earmark ban',\n",
       "       'Jeffries formally seeks to be next House Democratic leader',\n",
       "       \"White House condemns North Korea's latest long-range missile launch\",\n",
       "       \"House Republicans could pose threat to President Biden's agenda\",\n",
       "       'New generation of House Democrats vying for leadership spots',\n",
       "       \"Lauren Boebert's opponent concedes in tight Colorado House race\",\n",
       "       'Nancy Pelosi stands down as leader of US House Democrats',\n",
       "       \"House Republicans say 'top priority' is to probe Biden family\",\n",
       "       \"3 House Republicans say they won't support McCarthy for speaker\",\n",
       "       'Democrats narrowly win control of PA State House',\n",
       "       'Election denier Hakeem Jeffries could replace Pelosi as House Dem leader',\n",
       "       'White House files Supreme Court emergency appeal to rescue $500B student debt handout',\n",
       "       'Jordan seeks testimony from Garland, Wray, others in House Judiciary probes of DOJ, FBI',\n",
       "       'Lauren Boebert’s Rival, Adam Frisch, Concedes Colorado House Race',\n",
       "       'These Are the Democrats Who Could Replace Pelosi and Other House Leaders',\n",
       "       'Why Republicans’ Wafer-Thin House Majority Is a Gift for Democrats',\n",
       "       'Lauren Boebert’s House Race Nears a Recount',\n",
       "       'Lauren Boebert’s Rival, Adam Frisch, Concedes Colorado House Race',\n",
       "       'These Are the Democrats Who Could Replace Pelosi and Other House Leaders',\n",
       "       'Why Republicans’ Wafer-Thin House Majority Is a Gift for Democrats',\n",
       "       'Lauren Boebert’s House Race Nears a Recount',\n",
       "       \"Speaker Nancy Pelosi announced she'll end her run as the top House Democrat\",\n",
       "       'Impeachment, investigations, infighting: GOP’s thin margin in the House stirs intraparty conflict',\n",
       "       'Grover Norquist pushes House GOP to reinstate earmark ban',\n",
       "       'Jeffries formally seeks to be next House Democratic leader',\n",
       "       'Dalit groups demand action on dereliction of duty in minor girl’s rape case',\n",
       "       'RS MP asks Delhi L-G to file a review petition in acquittal in 2012 gang rape and murder case',\n",
       "       'Controversy in SC over listing of Chhattisgarh NAN scam case before Justice Shah-led Bench',\n",
       "       'SC quashes Hetero plea to discharge it from CBI cases',\n",
       "       'Rare double life imprisonment in separate POCSO cases in Lakshadweep',\n",
       "       'BJP moves HC seeking to stall issuing notices to its functionaries in MLAs’ poaching attempt case',\n",
       "       'Mumbai court grants bail to dismissed police officer Sachin Vaze in PMLA case',\n",
       "       \"Shraddha Walkar murder case: Victim's WhatsApp chats reveal history of abuse by Aaftab Poonawala\",\n",
       "       'Hear 10 matrimonial cases daily: CJI',\n",
       "       'Dalit groups demand action on dereliction of duty in minor girl’s rape case',\n",
       "       'RS MP asks Delhi L-G to file a review petition in acquittal in 2012 gang rape and murder case',\n",
       "       'Controversy in SC over listing of Chhattisgarh NAN scam case before Justice Shah-led Bench',\n",
       "       'SC quashes Hetero plea to discharge it from CBI cases',\n",
       "       'Rare double life imprisonment in separate POCSO cases in Lakshadweep',\n",
       "       'BJP moves HC seeking to stall issuing notices to its functionaries in MLAs’ poaching attempt case',\n",
       "       'Mumbai court grants bail to dismissed police officer Sachin Vaze in PMLA case',\n",
       "       'RS MP asks Delhi L-G to file a review petition in acquittal in 2012 gang rape and murder case',\n",
       "       'No fresh COVID case in 18 districts; Chennai reports fewer than 10 cases',\n",
       "       'Erode, Salem report three new COVID-19 cases each',\n",
       "       'Coimbatore reports six new COVID-19 cases',\n",
       "       'Mumbai court grants bail to dismissed police officer Sachin Vaze in PMLA case',\n",
       "       'HC directs State to file counter affidavit on petitions challenging release of convicts in Melavalavu massacre case',\n",
       "       'Case against eight priests, fishermen for laying siege to police station',\n",
       "       'Dalit groups demand action on dereliction of duty in minor girl’s rape case',\n",
       "       'RS MP asks Delhi L-G to file a review petition in acquittal in 2012 gang rape and murder case',\n",
       "       'Controversy in SC over listing of Chhattisgarh NAN scam case before Justice Shah-led Bench',\n",
       "       'SC quashes Hetero plea to discharge it from CBI cases',\n",
       "       'Rare double life imprisonment in separate POCSO cases in Lakshadweep',\n",
       "       'BJP moves HC seeking to stall issuing notices to its functionaries in MLAs’ poaching attempt case',\n",
       "       'Mumbai court grants bail to dismissed police officer Sachin Vaze in PMLA case',\n",
       "       \"Shraddha Walkar murder case: Victim's WhatsApp chats reveal history of abuse by Aaftab Poonawala\",\n",
       "       'Hear 10 matrimonial cases daily: CJI',\n",
       "       'Dalit groups demand action on dereliction of duty in minor girl’s rape case',\n",
       "       'RS MP asks Delhi L-G to file a review petition in acquittal in 2012 gang rape and murder case',\n",
       "       'Controversy in SC over listing of Chhattisgarh NAN scam case before Justice Shah-led Bench',\n",
       "       'SC quashes Hetero plea to discharge it from CBI cases',\n",
       "       'Rare double life imprisonment in separate POCSO cases in Lakshadweep',\n",
       "       'BJP moves HC seeking to stall issuing notices to its functionaries in MLAs’ poaching attempt case',\n",
       "       'Mumbai court grants bail to dismissed police officer Sachin Vaze in PMLA case',\n",
       "       'RS MP asks Delhi L-G to file a review petition in acquittal in 2012 gang rape and murder case',\n",
       "       'No fresh COVID case in 18 districts; Chennai reports fewer than 10 cases',\n",
       "       'Erode, Salem report three new COVID-19 cases each',\n",
       "       'Coimbatore reports six new COVID-19 cases',\n",
       "       'Mumbai court grants bail to dismissed police officer Sachin Vaze in PMLA case',\n",
       "       'HC directs State to file counter affidavit on petitions challenging release of convicts in Melavalavu massacre case',\n",
       "       'Case against eight priests, fishermen for laying siege to police station'],\n",
       "      dtype=object)"
      ]
     },
     "execution_count": 10,
     "metadata": {},
     "output_type": "execute_result"
    }
   ],
   "source": [
    "k_df.title.values"
   ]
  }
 ],
 "metadata": {
  "kernelspec": {
   "display_name": "Python 3 (ipykernel)",
   "language": "python",
   "name": "python3"
  },
  "language_info": {
   "codemirror_mode": {
    "name": "ipython",
    "version": 3
   },
   "file_extension": ".py",
   "mimetype": "text/x-python",
   "name": "python",
   "nbconvert_exporter": "python",
   "pygments_lexer": "ipython3",
   "version": "3.9.6"
  },
  "vscode": {
   "interpreter": {
    "hash": "31f2aee4e71d21fbe5cf8b01ff0e069b9275f58929596ceb00d14d90e3e16cd6"
   }
  }
 },
 "nbformat": 4,
 "nbformat_minor": 2
}
