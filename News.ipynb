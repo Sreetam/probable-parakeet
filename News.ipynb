{
  "cells": [
    {
      "cell_type": "markdown",
      "metadata": {
        "colab_type": "text",
        "id": "view-in-github"
      },
      "source": [
        "<a href=\"https://colab.research.google.com/github/Sreetam/probable-parakeet/blob/main/News.ipynb\" target=\"_parent\"><img src=\"https://colab.research.google.com/assets/colab-badge.svg\" alt=\"Open In Colab\"/></a>"
      ]
    },
    {
      "cell_type": "code",
      "execution_count": 3,
      "metadata": {
        "id": "s55WPfqEDaLz"
      },
      "outputs": [],
      "source": [
        "import requests\n",
        "from bs4 import BeautifulSoup\n",
        "import pandas as pd"
      ]
    },
    {
      "cell_type": "code",
      "execution_count": 24,
      "metadata": {
        "colab": {
          "base_uri": "https://localhost:8080/"
        },
        "id": "c-GcfEJhOKGK",
        "outputId": "3c9ec500-3422-41c3-acae-b915da4873d1"
      },
      "outputs": [],
      "source": [
        "rss_list = pd.read_csv('rss.csv', sep=' ')"
      ]
    },
    {
      "cell_type": "code",
      "execution_count": 25,
      "metadata": {
        "colab": {
          "base_uri": "https://localhost:8080/"
        },
        "id": "KKLAUd4iP6qx",
        "outputId": "9184a684-3044-4d59-eb89-73bf7912923f"
      },
      "outputs": [
        {
          "name": "stdout",
          "output_type": "stream",
          "text": [
            "Total News Content: 25 : Success: 200 : http://feeds.abcnews.com/abcnews/usheadlines\n",
            "Total News Content: 69 : Success: 200 : http://rss.cnn.com/rss/cnn_topstories.rss\n",
            "Total News Content: 30 : Success: 200 : http://www.cbsnews.com/latest/rss/main\n",
            "Total News Content: 404 : Fail: 404 : http://www.nytimes.com/services/xml/rss/nyt/National.xml\n",
            "Total News Content: 404 : Fail: 404 : http://online.wsj.com/xml/rss/3_7085.xml\n",
            "Total News Content: 0 : Success: 200 : http://content.usatoday.com/marketing/rss/rsstrans.aspx?feedId=news2\n",
            "Total News Content: 20 : Success: 200 : http://rss.csmonitor.com/feeds/usa\n",
            "Total News Content: 25 : Success: 200 : http://feeds.nbcnews.com/feeds/topstories\n",
            "Total News Content: 25 : Success: 200 : http://feeds.nbcnews.com/feeds/worldnews\n",
            "Total News Content: 404 : Fail: 404 : http://feeds.reuters.com/Reuters/worldNews\n",
            "Total News Content: 404 : Fail: 404 : http://feeds.reuters.com/Reuters/domesticNews\n"
          ]
        },
        {
          "name": "stderr",
          "output_type": "stream",
          "text": [
            "/Users/sreetam/Library/Python/3.9/lib/python/site-packages/bs4/__init__.py:435: MarkupResemblesLocatorWarning: The input looks more like a filename than markup. You may want to open this file and pass the filehandle into Beautiful Soup.\n",
            "  warnings.warn(\n"
          ]
        },
        {
          "name": "stdout",
          "output_type": "stream",
          "text": [
            "Total News Content: 0 : Success: 200 : http://hosted.ap.org/lineups/USHEADS.rss\n",
            "Total News Content: 0 : Success: 200 : http://hosted.ap.org/lineups/WORLDHEADS.rss\n",
            "Total News Content: 30 : Success: 200 : http://www.huffingtonpost.com/feeds/verticals/world/index.xml\n",
            "Total News Content: 36 : Success: 200 : http://feeds.bbci.co.uk/news/world/us_and_canada/rss.xml\n",
            "Total News Content: 50 : Success: 200 : http://news.yahoo.com/rss/us\n",
            "Total News Content: 50 : Success: 200 : http://rss.news.yahoo.com/rss/world\n",
            "Total News Content: 0 : Success: 403 : http://www.newsweek.com/rss\n",
            "Total News Content: 25 : Success: 200 : http://feeds.feedburner.com/thedailybeast/articles\n",
            "Total News Content: 51 : Success: 200 : http://qz.com/feed\n",
            "Total News Content: 30 : Success: 200 : http://www.theguardian.com/world/usa/rss\n",
            "Total News Content: 50 : Success: 200 : http://www.politico.com/rss/politicopicks.xml\n",
            "Total News Content: 16 : Success: 200 : http://www.newyorker.com/feed/news\n",
            "Total News Content: 15 : Success: 200 : http://feeds.feedburner.com/NationPBSNewsHour\n",
            "Total News Content: 15 : Success: 200 : http://feeds.feedburner.com/NewshourWorld\n",
            "Total News Content: 404 : Fail: 404 : http://www.usnews.com/rss/news\n",
            "Total News Content: 15 : Success: 200 : http://www.npr.org/rss/rss.php?id=1003\n",
            "Total News Content: 15 : Success: 200 : http://www.npr.org/rss/rss.php?id=1004\n",
            "Total News Content: 0 : Success: 200 : http://feeds.feedburner.com/AtlanticNational\n",
            "Total News Content: 0 : Success: 200 : http://feeds.feedburner.com/TheAtlanticWire\n",
            "Total News Content: 0 : Success: 403 : http://www.latimes.com/nation/rss2.0.xml\n",
            "Total News Content: 0 : Success: 403 : http://www.latimes.com/world/rss2.0.xml\n"
          ]
        }
      ],
      "source": [
        "articles = []\n",
        "for rss in rss_list['rss-url']:\n",
        "  article = {'title' : '',\n",
        "             'description' : '',\n",
        "             'link' : '',\n",
        "             'pubDate' : '',\n",
        "             'rss' : ''}\n",
        "  try:\n",
        "    for i in range(5):\n",
        "      r = requests.get(rss)\n",
        "      if r.status_code==200:\n",
        "        break\n",
        "    soupContent = BeautifulSoup(r.content,features='xml')\n",
        "    items = soupContent.findAll('item')\n",
        "    if r.status_code!=404:\n",
        "      print('Total News Content: ' + str(len(items)) + ' : Success: ' + str(r.status_code) + ' : ' + rss)\n",
        "    else:\n",
        "      print('Total News Content: 404 : Fail: 404 : ' + rss)\n",
        "  except:\n",
        "    print('Total News Content: 404 : Fail: 404 : ' + rss)\n",
        "  for i in items:\n",
        "    try: article['title'] = i.find('title').text\n",
        "    except: article['title'] = ''\n",
        "    try: article['description'] = i.find('description').text\n",
        "    except: article['description'] = ''\n",
        "    try: article['link'] = i.find('link').text\n",
        "    except: article['link'] = ''\n",
        "    try: article['pubDate'] = i.find('pubDate').text\n",
        "    except: article['pubDate'] = ''\n",
        "    article['rss'] = rss\n",
        "    articles.append(article)"
      ]
    },
    {
      "cell_type": "code",
      "execution_count": null,
      "metadata": {
        "colab": {
          "base_uri": "https://localhost:8080/"
        },
        "id": "ZBv9KMLPE6vM",
        "outputId": "65d232ab-d81a-48b7-a9f4-27f01da570c9"
      },
      "outputs": [],
      "source": [
        "articles"
      ]
    }
  ],
  "metadata": {
    "colab": {
      "authorship_tag": "ABX9TyOIwM4utmh249VOH+vA7sna",
      "include_colab_link": true,
      "provenance": []
    },
    "kernelspec": {
      "display_name": "Python 3.9.6 64-bit",
      "language": "python",
      "name": "python3"
    },
    "language_info": {
      "codemirror_mode": {
        "name": "ipython",
        "version": 3
      },
      "file_extension": ".py",
      "mimetype": "text/x-python",
      "name": "python",
      "nbconvert_exporter": "python",
      "pygments_lexer": "ipython3",
      "version": "3.9.6"
    },
    "vscode": {
      "interpreter": {
        "hash": "31f2aee4e71d21fbe5cf8b01ff0e069b9275f58929596ceb00d14d90e3e16cd6"
      }
    }
  },
  "nbformat": 4,
  "nbformat_minor": 0
}
