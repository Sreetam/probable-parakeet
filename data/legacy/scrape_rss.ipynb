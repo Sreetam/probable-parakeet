{
  "cells": [
    {
      "cell_type": "markdown",
      "metadata": {
        "colab_type": "text",
        "id": "view-in-github"
      },
      "source": [
        "<a href=\"https://colab.research.google.com/github/Sreetam/probable-parakeet/blob/main/News.ipynb\" target=\"_parent\"><img src=\"https://colab.research.google.com/assets/colab-badge.svg\" alt=\"Open In Colab\"/></a>"
      ]
    },
    {
      "cell_type": "code",
      "execution_count": 1,
      "metadata": {
        "id": "s55WPfqEDaLz"
      },
      "outputs": [],
      "source": [
        "import requests\n",
        "from bs4 import BeautifulSoup\n",
        "import pandas as pd"
      ]
    },
    {
      "cell_type": "code",
      "execution_count": 2,
      "metadata": {
        "id": "c-GcfEJhOKGK"
      },
      "outputs": [],
      "source": [
        "rss_list = pd.read_csv('https://raw.githubusercontent.com/Sreetam/probable-parakeet/main/legacy/legacy_rss.csv', sep=' ')"
      ]
    },
    {
      "cell_type": "code",
      "execution_count": null,
      "metadata": {
        "colab": {
          "base_uri": "https://localhost:8080/"
        },
        "id": "KKLAUd4iP6qx",
        "outputId": "eb5827ac-ffa3-4366-afbf-a963ea36d185"
      },
      "outputs": [],
      "source": [
        "articles = []\n",
        "goodlinks = []\n",
        "for rss in rss_list['rss-url']:\n",
        "  article = {'title' : '',\n",
        "             'description' : '',\n",
        "             'link' : '',\n",
        "             'pubDate' : '',\n",
        "             'rss' : ''}\n",
        "  items = []\n",
        "  try:\n",
        "    for i in range(5):\n",
        "      r = requests.get(rss, timeout=0.5)\n",
        "      if r.status_code==200:\n",
        "        break\n",
        "    soupContent = BeautifulSoup(r.content,features='lxml')\n",
        "    items = soupContent.findAll('item')\n",
        "    if r.status_code==200 and len(items)!=0:\n",
        "      print('Total News Content: ' + str(len(items)) + ' : Success: ' + str(r.status_code) + ' : ' + rss)\n",
        "      goodlinks.append(rss)\n",
        "    else:\n",
        "      print('Total News Content: 0 : Fail: ' + str(r.status_code) + ' : ' + rss)\n",
        "  except:\n",
        "    print('STotal News Content: 0 : Fail: 404 : ' + rss)\n",
        "  for i in items:\n",
        "    try: article['title'] = i.find('title').text\n",
        "    except: article['title'] = ''\n",
        "    try: article['description'] = i.find('description').text\n",
        "    except: article['description'] = ''\n",
        "    try: article['link'] = i.find('link').text\n",
        "    except: article['link'] = ''\n",
        "    try: article['pubDate'] = i.find('pubDate').text\n",
        "    except: article['pubDate'] = ''\n",
        "    article['rss'] = rss\n",
        "    articles.append(article)"
      ]
    },
    {
      "cell_type": "code",
      "execution_count": null,
      "metadata": {
        "colab": {
          "base_uri": "https://localhost:8080/"
        },
        "id": "Vs13CHmk760K",
        "outputId": "4b434593-ada6-4ca7-bd47-6de1aa053a12"
      },
      "outputs": [
        {
          "data": {
            "text/plain": [
              "406"
            ]
          },
          "execution_count": 5,
          "metadata": {},
          "output_type": "execute_result"
        }
      ],
      "source": [
        "len(goodlinks)"
      ]
    },
    {
      "cell_type": "code",
      "execution_count": null,
      "metadata": {
        "id": "0rMaiEuh9AE1"
      },
      "outputs": [],
      "source": [
        "import csv"
      ]
    },
    {
      "cell_type": "code",
      "execution_count": null,
      "metadata": {
        "id": "ZBv9KMLPE6vM"
      },
      "outputs": [],
      "source": [
        "rss_list.to_csv('raw_rss_list.csv', index=False, quoting=csv.QUOTE_ALL)"
      ]
    },
    {
      "cell_type": "code",
      "execution_count": null,
      "metadata": {
        "id": "d-IM33OY8apV"
      },
      "outputs": [],
      "source": [
        "rss_list.loc[rss_list['rss-url'].isin(goodlinks)].to_csv('rss.csv', index=False, quoting=csv.QUOTE_ALL)"
      ]
    }
  ],
  "metadata": {
    "colab": {
      "include_colab_link": true,
      "provenance": []
    },
    "kernelspec": {
      "display_name": "Python 3.9.6 64-bit",
      "language": "python",
      "name": "python3"
    },
    "language_info": {
      "codemirror_mode": {
        "name": "ipython",
        "version": 3
      },
      "file_extension": ".py",
      "mimetype": "text/x-python",
      "name": "python",
      "nbconvert_exporter": "python",
      "pygments_lexer": "ipython3",
      "version": "3.10.7"
    },
    "vscode": {
      "interpreter": {
        "hash": "31f2aee4e71d21fbe5cf8b01ff0e069b9275f58929596ceb00d14d90e3e16cd6"
      }
    }
  },
  "nbformat": 4,
  "nbformat_minor": 0
}
